{
 "cells": [
  {
   "cell_type": "code",
   "execution_count": 2,
   "metadata": {},
   "outputs": [],
   "source": [
    "import os "
   ]
  },
  {
   "cell_type": "code",
   "execution_count": 3,
   "metadata": {},
   "outputs": [
    {
     "data": {
      "text/plain": [
       "'c:\\\\textsummar\\\\Text_Summarizer'"
      ]
     },
     "execution_count": 3,
     "metadata": {},
     "output_type": "execute_result"
    }
   ],
   "source": [
    "os.chdir(\"\\\\textsummar\\\\Text_Summarizer\")\n",
    "%pwd"
   ]
  },
  {
   "cell_type": "code",
   "execution_count": 4,
   "metadata": {},
   "outputs": [],
   "source": [
    "#updata config.yaml \n",
    "from dataclasses import dataclass \n",
    "from pathlib import Path\n",
    "\n",
    "@dataclass(frozen=True)\n",
    "class DataIngestionConfig:\n",
    "    root_dir: Path \n",
    "    source_URL: str \n",
    "    local_file: Path \n",
    "    unzip_dir: Path"
   ]
  },
  {
   "cell_type": "code",
   "execution_count": 5,
   "metadata": {},
   "outputs": [],
   "source": [
    "from text_summarizer.constants import *\n",
    "from text_summarizer.utils.common import read_yaml,create_directories "
   ]
  },
  {
   "cell_type": "code",
   "execution_count": 6,
   "metadata": {},
   "outputs": [],
   "source": [
    "#create config manager\n",
    "class ConfigManager:\n",
    "    def  __init__(\n",
    "         self,\n",
    "        config_fp= CONFIG_PATH,\n",
    "        params_fp =  PARAMS_PATH):\n",
    "\n",
    "        self.config = read_yaml(config_fp)\n",
    "        self.params = read_yaml(params_fp)\n",
    "\n",
    "        create_directories([self.config.artifacts_root])\n",
    "\n",
    "    def get_data_ingestion_config(self) -> DataIngestionConfig:\n",
    "        config = self.config.data_ingestion\n",
    "\n",
    "        create_directories([config.root_dir])\n",
    "        \n",
    "        DI_config = DataIngestionConfig(\n",
    "            root_dir = config.root_dir,\n",
    "            source_URL =  config.source_URL,\n",
    "            local_file= config.local_file,\n",
    "            unzip_dir= config.unzip_dir\n",
    "        )\n",
    "        return DI_config"
   ]
  },
  {
   "cell_type": "code",
   "execution_count": 7,
   "metadata": {},
   "outputs": [],
   "source": [
    "#update components \n",
    "import os \n",
    "import urllib.request as request \n",
    "from text_summarizer.logging import logger \n",
    "import zipfile "
   ]
  },
  {
   "cell_type": "code",
   "execution_count": 8,
   "metadata": {},
   "outputs": [],
   "source": [
    "class DataIngestion:\n",
    "    def __init__(self,config:DataIngestionConfig):\n",
    "        self.config = config \n",
    "    \n",
    "    def download_file(self):\n",
    "        if not os.path.exists(self.config.local_file):\n",
    "            fname, header = request.urlretrieve(\n",
    "                url = self.config.source_URL,\n",
    "                filename = self.config.local_file\n",
    "            )\n",
    "            logger.info(f\"{fname} download, with following info: \\n {header}\")\n",
    "        else:\n",
    "            logger.info(f\"file already exists\")\n",
    "        \n",
    "    def extract_zip_file(self):\n",
    "        unzip_path = self.config.unzip_dir\n",
    "        os.makedirs(unzip_path,exist_ok=True)\n",
    "        with zipfile.ZipFile(self.config.local_file , 'r') as zipref:\n",
    "            zipref.extractall(unzip_path)"
   ]
  },
  {
   "cell_type": "code",
   "execution_count": 11,
   "metadata": {},
   "outputs": [
    {
     "name": "stdout",
     "output_type": "stream",
     "text": [
      "[2023-09-07 23:15:21,778:INFO:common:yaml file: config\\config.yaml loaded successfully]\n",
      "[2023-09-07 23:15:21,786:INFO:common:yaml file: params.yaml loaded successfully]\n",
      "[2023-09-07 23:15:21,786:INFO:common:created directory at:artifacts]\n",
      "[2023-09-07 23:15:21,786:INFO:common:created directory at:artifacts/data_ingestion]\n",
      "[2023-09-07 23:15:35,311:INFO:2017815252:artifacts/data_ingestion/data.zip download, with following info: \n",
      " Connection: close\n",
      "Content-Length: 7903594\n",
      "Cache-Control: max-age=300\n",
      "Content-Security-Policy: default-src 'none'; style-src 'unsafe-inline'; sandbox\n",
      "Content-Type: application/zip\n",
      "ETag: \"dbc016a060da18070593b83afff580c9b300f0b6ea4147a7988433e04df246ca\"\n",
      "Strict-Transport-Security: max-age=31536000\n",
      "X-Content-Type-Options: nosniff\n",
      "X-Frame-Options: deny\n",
      "X-XSS-Protection: 1; mode=block\n",
      "X-GitHub-Request-Id: 2E44:47C8:404886:491422:64FA0C2F\n",
      "Accept-Ranges: bytes\n",
      "Date: Thu, 07 Sep 2023 17:45:34 GMT\n",
      "Via: 1.1 varnish\n",
      "X-Served-By: cache-bom4722-BOM\n",
      "X-Cache: MISS\n",
      "X-Cache-Hits: 0\n",
      "X-Timer: S1694108723.933991,VS0,VE11791\n",
      "Vary: Authorization,Accept-Encoding,Origin\n",
      "Access-Control-Allow-Origin: *\n",
      "Cross-Origin-Resource-Policy: cross-origin\n",
      "X-Fastly-Request-ID: b801820692163ab76aa5496bd068eaf7df13dbef\n",
      "Expires: Thu, 07 Sep 2023 17:50:34 GMT\n",
      "Source-Age: 8\n",
      "\n",
      "]\n"
     ]
    }
   ],
   "source": [
    "try:\n",
    "    config = ConfigManager()\n",
    "    data_ingestion_config = config.get_data_ingestion_config()\n",
    "    data_ingestion = DataIngestion(config=data_ingestion_config)\n",
    "    data_ingestion.download_file()\n",
    "    data_ingestion.extract_zip_file()\n",
    "\n",
    "except Exception as e:\n",
    "    raise e "
   ]
  }
 ],
 "metadata": {
  "kernelspec": {
   "display_name": "textenv",
   "language": "python",
   "name": "python3"
  },
  "language_info": {
   "codemirror_mode": {
    "name": "ipython",
    "version": 3
   },
   "file_extension": ".py",
   "mimetype": "text/x-python",
   "name": "python",
   "nbconvert_exporter": "python",
   "pygments_lexer": "ipython3",
   "version": "3.8.0"
  },
  "orig_nbformat": 4
 },
 "nbformat": 4,
 "nbformat_minor": 2
}
