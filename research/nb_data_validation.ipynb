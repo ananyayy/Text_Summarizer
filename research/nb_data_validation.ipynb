{
 "cells": [
  {
   "cell_type": "code",
   "execution_count": 1,
   "metadata": {},
   "outputs": [],
   "source": [
    "import os "
   ]
  },
  {
   "cell_type": "code",
   "execution_count": 8,
   "metadata": {},
   "outputs": [
    {
     "data": {
      "text/plain": [
       "'c:\\\\'"
      ]
     },
     "execution_count": 8,
     "metadata": {},
     "output_type": "execute_result"
    }
   ],
   "source": [
    "%pwd"
   ]
  },
  {
   "cell_type": "code",
   "execution_count": 10,
   "metadata": {},
   "outputs": [
    {
     "data": {
      "text/plain": [
       "'c:\\\\textsummar\\\\Text_Summarizer'"
      ]
     },
     "execution_count": 10,
     "metadata": {},
     "output_type": "execute_result"
    }
   ],
   "source": [
    "os.chdir('\\\\textsummar\\\\Text_Summarizer')\n",
    "%pwd"
   ]
  },
  {
   "cell_type": "code",
   "execution_count": 26,
   "metadata": {},
   "outputs": [],
   "source": [
    "#update in entities \n",
    "from dataclasses import dataclass\n",
    "from pathlib import Path \n",
    "\n",
    "@dataclass(frozen=True)\n",
    "class Datavalidationconfig:\n",
    "    root_dir: Path \n",
    "    status_file: str\n",
    "    all_required_files: list "
   ]
  },
  {
   "cell_type": "code",
   "execution_count": 27,
   "metadata": {},
   "outputs": [],
   "source": [
    "from text_summarizer.constants import *\n",
    "from text_summarizer.utils.common import read_yaml ,create_directories "
   ]
  },
  {
   "cell_type": "code",
   "execution_count": 35,
   "metadata": {},
   "outputs": [],
   "source": [
    "class ConfigManager:\n",
    "    def  __init__(\n",
    "         self,\n",
    "        config_fp= CONFIG_PATH,\n",
    "        params_fp =  PARAMS_PATH):\n",
    "\n",
    "        self.config = read_yaml(config_fp)\n",
    "        self.params = read_yaml(params_fp)\n",
    "\n",
    "        create_directories([self.config.artifacts_root])\n",
    "\n",
    "    def get_data_validation_config(self)-> Datavalidationconfig:\n",
    "        config = self.config.data_validation\n",
    "\n",
    "        create_directories([config.root_dir])\n",
    "\n",
    "        dataValConfig = Datavalidationconfig(\n",
    "                root_dir= config.root_dir ,\n",
    "            status_file= config.status_file,\n",
    "            all_required_files= config.all_required_files, \n",
    "        )\n",
    "        return  dataValConfig"
   ]
  },
  {
   "cell_type": "code",
   "execution_count": 15,
   "metadata": {},
   "outputs": [],
   "source": [
    "#update components \n",
    "import os \n",
    "from text_summarizer.logging import logger "
   ]
  },
  {
   "cell_type": "code",
   "execution_count": 17,
   "metadata": {},
   "outputs": [],
   "source": [
    "class validation:\n",
    "    def __init__(self,config: Datavalidationconfig):\n",
    "        self.config=config \n",
    "\n",
    "    def validate_allFiles(self)->bool:\n",
    "        try:\n",
    "            validation_status = None\n",
    "            all_files = os.listdir(os.path.join(\"artifacts\",\"data_ingestion\",\"samsum_dataset\"))\n",
    "            for file in all_files:\n",
    "                if file not in all_files:\n",
    "                    validation_status=False\n",
    "                    with open(self.config.status_file,'w')as f:\n",
    "                        f.write(f'validation status: {validation_status}')\n",
    "\n",
    "\n",
    "                else:\n",
    "                    validation_status = True \n",
    "                    with open(self.config.status_file,'w')as f:\n",
    "                        f.write(f'validation status:{validation_status}')\n",
    "            return validation_status \n",
    "        \n",
    "        except Exception as e:\n",
    "            raise e "
   ]
  },
  {
   "cell_type": "code",
   "execution_count": 37,
   "metadata": {},
   "outputs": [
    {
     "name": "stdout",
     "output_type": "stream",
     "text": [
      "[2023-09-07 23:30:20,540:INFO:common:yaml file: config\\config.yaml loaded successfully]\n",
      "[2023-09-07 23:30:20,549:INFO:common:yaml file: params.yaml loaded successfully]\n",
      "[2023-09-07 23:30:20,550:INFO:common:created directory at:artifacts]\n",
      "[2023-09-07 23:30:20,553:INFO:common:created directory at:artifacts/data_validation]\n"
     ]
    }
   ],
   "source": [
    "#update pipeline\n",
    "try:\n",
    "    config = ConfigManager()\n",
    "    data_validation_config = config.get_data_validation_config()\n",
    "    data_ingestion = validation(config=data_validation_config)\n",
    "    data_ingestion.validate_allFiles()\n",
    "\n",
    "except Exception as e:\n",
    "    raise e "
   ]
  },
  {
   "cell_type": "code",
   "execution_count": null,
   "metadata": {},
   "outputs": [],
   "source": []
  }
 ],
 "metadata": {
  "kernelspec": {
   "display_name": "textenv",
   "language": "python",
   "name": "python3"
  },
  "language_info": {
   "codemirror_mode": {
    "name": "ipython",
    "version": 3
   },
   "file_extension": ".py",
   "mimetype": "text/x-python",
   "name": "python",
   "nbconvert_exporter": "python",
   "pygments_lexer": "ipython3",
   "version": "3.8.0"
  },
  "orig_nbformat": 4
 },
 "nbformat": 4,
 "nbformat_minor": 2
}
